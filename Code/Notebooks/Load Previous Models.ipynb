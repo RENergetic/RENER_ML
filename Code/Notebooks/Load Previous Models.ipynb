{
 "cells": [
  {
   "attachments": {},
   "cell_type": "markdown",
   "metadata": {},
   "source": [
    "# What is this about?"
   ]
  },
  {
   "attachments": {},
   "cell_type": "markdown",
   "metadata": {},
   "source": [
    "This notebooks deals with getting models pretrained and using them in the forecasting. It has two steps:\n",
    "1. Make sure that the current model is working\n",
    "2. Make Predictions "
   ]
  },
  {
   "cell_type": "code",
   "execution_count": 2,
   "metadata": {},
   "outputs": [],
   "source": [
    "def GetPreviousModel(asset_name):\n",
    "\n",
    "    import boto3\n",
    "    from datetime import datetime\n",
    "    \n",
    "    s3 = boto3.resource(\n",
    "            service_name='s3',\n",
    "            aws_access_key_id='QyvycO9kc2cm58K8',\n",
    "            aws_secret_access_key='tKtUrdQzQgWfhfBwhbQF3yGbyZ43oPn92iGAT7g0',\n",
    "            endpoint_url='https://s3.tebi.io'\n",
    "        )\n",
    "\n",
    "    \n",
    "    my_bucket = s3.Bucket('test-pf')\n",
    "    list_objects = []\n",
    "    for my_bucket_object in my_bucket.objects.all():\n",
    "        if asset_name in my_bucket_object.key and \"model\" in  my_bucket_object.key:\n",
    "            list_objects.append(\n",
    "                {\n",
    "                    \"model_name\": my_bucket_object.key,\n",
    "                    \"last_modified\": datetime.strftime(my_bucket_object.last_modified, \"%Y-%m-%d %H:%M:%S\")\n",
    "                })\n",
    "    \n",
    "    if len(list_objects) == 0:\n",
    "        raise ValueError(\"No model was found for this asset_name\")\n",
    "    else:\n",
    "        return list_objects"
   ]
  },
  {
   "cell_type": "code",
   "execution_count": 3,
   "metadata": {},
   "outputs": [],
   "source": [
    "models = GetPreviousModel(\"de-nieuwe-dokken-pv-017A-xxxxx9A1\")"
   ]
  },
  {
   "cell_type": "code",
   "execution_count": 4,
   "metadata": {},
   "outputs": [
    {
     "data": {
      "text/plain": [
       "[{'model_name': 'model_Ghent_pv_de-nieuwe-dokken-pv-017A-xxxxx9A1.json',\n",
       "  'last_modified': '2023-05-15 04:08:27'}]"
      ]
     },
     "execution_count": 4,
     "metadata": {},
     "output_type": "execute_result"
    }
   ],
   "source": [
    "models"
   ]
  },
  {
   "cell_type": "code",
   "execution_count": 8,
   "metadata": {},
   "outputs": [],
   "source": [
    "def ObtainProphetModel(models):\n",
    "    from prophet.serialize import model_from_json\n",
    "    import boto3\n",
    "    s3_client = boto3.client('s3',\n",
    "            aws_access_key_id='QyvycO9kc2cm58K8',\n",
    "            aws_secret_access_key='tKtUrdQzQgWfhfBwhbQF3yGbyZ43oPn92iGAT7g0',\n",
    "            endpoint_url='https://s3.tebi.io'\n",
    "        )\n",
    "    dir_model =\"/Users/fablab/Downloads\" + models[0][\"model_name\"]\n",
    "    model_name = models[0][\"model_name\"]\n",
    "\n",
    "    with open(dir_model, 'wb') as f:\n",
    "        s3_client.download_fileobj('test-pf', model_name, f)\n",
    "\n",
    "    with open(dir_model, \"r\") as fin:\n",
    "        m = model_from_json(fin.read())\n",
    "    return m"
   ]
  },
  {
   "cell_type": "code",
   "execution_count": 9,
   "metadata": {},
   "outputs": [
    {
     "name": "stderr",
     "output_type": "stream",
     "text": [
      "/Users/fablab/opt/anaconda3/lib/python3.8/site-packages/prophet/serialize.py:136: FutureWarning: The behavior of Timestamp.utcfromtimestamp is deprecated, in a future version will return a timezone-aware Timestamp with UTC timezone. To keep the old behavior, use Timestamp.utcfromtimestamp(ts).tz_localize(None). To get the future behavior, use Timestamp.fromtimestamp(ts, 'UTC')\n",
      "  setattr(model, attribute, pd.Timestamp.utcfromtimestamp(attr_dict[attribute]))\n"
     ]
    }
   ],
   "source": [
    "m = ObtainProphetModel(models)"
   ]
  },
  {
   "cell_type": "code",
   "execution_count": 28,
   "metadata": {},
   "outputs": [],
   "source": [
    "def model_predict(model, num_days: int = 1, freq: str = \"1H\"):\n",
    "    from datetime import datetime\n",
    "    today = datetime.today().date()\n",
    "    last_date_model = model.history.ds.max().date()\n",
    "    difference = today - last_date_model\n",
    "    \n",
    "    dias_a_predecir = difference.days + num_days\n",
    "    \n",
    "    future = model.make_future_dataframe(periods=dias_a_predecir*24, freq=freq, include_history=False)\n",
    "    predicciones = model.predict(future)[[\"ds\", \"yhat\"]]\n",
    "    \n",
    "    return predicciones [ predicciones.ds >= datetime.combine(datetime.today().date(), datetime.min.time()) ]"
   ]
  },
  {
   "cell_type": "code",
   "execution_count": 30,
   "metadata": {},
   "outputs": [
    {
     "name": "stderr",
     "output_type": "stream",
     "text": [
      "/Users/fablab/opt/anaconda3/lib/python3.8/site-packages/prophet/forecaster.py:896: FutureWarning: The frame.append method is deprecated and will be removed from pandas in a future version. Use pandas.concat instead.\n",
      "  components = components.append(new_comp)\n",
      "/Users/fablab/opt/anaconda3/lib/python3.8/site-packages/prophet/forecaster.py:896: FutureWarning: The frame.append method is deprecated and will be removed from pandas in a future version. Use pandas.concat instead.\n",
      "  components = components.append(new_comp)\n"
     ]
    },
    {
     "data": {
      "text/html": [
       "<div><div id=46d8f1cf-cd2d-4b8d-9307-7139f94ea822 style=\"display:none; background-color:#9D6CFF; color:white; width:200px; height:30px; padding-left:5px; border-radius:4px; flex-direction:row; justify-content:space-around; align-items:center;\" onmouseover=\"this.style.backgroundColor='#BA9BF8'\" onmouseout=\"this.style.backgroundColor='#9D6CFF'\" onclick=\"window.commands?.execute('create-mitosheet-from-dataframe-output');\">See Full Dataframe in Mito</div> <script> if (window.commands.hasCommand('create-mitosheet-from-dataframe-output')) document.getElementById('46d8f1cf-cd2d-4b8d-9307-7139f94ea822').style.display = 'flex' </script> <table border=\"1\" class=\"dataframe\">\n",
       "  <thead>\n",
       "    <tr style=\"text-align: right;\">\n",
       "      <th></th>\n",
       "      <th>ds</th>\n",
       "      <th>yhat</th>\n",
       "    </tr>\n",
       "  </thead>\n",
       "  <tbody>\n",
       "    <tr>\n",
       "      <th>24</th>\n",
       "      <td>2023-05-15 00:00:00</td>\n",
       "      <td>282.613496</td>\n",
       "    </tr>\n",
       "    <tr>\n",
       "      <th>25</th>\n",
       "      <td>2023-05-15 01:00:00</td>\n",
       "      <td>-79.269186</td>\n",
       "    </tr>\n",
       "    <tr>\n",
       "      <th>26</th>\n",
       "      <td>2023-05-15 02:00:00</td>\n",
       "      <td>-206.389265</td>\n",
       "    </tr>\n",
       "    <tr>\n",
       "      <th>27</th>\n",
       "      <td>2023-05-15 03:00:00</td>\n",
       "      <td>218.027368</td>\n",
       "    </tr>\n",
       "    <tr>\n",
       "      <th>28</th>\n",
       "      <td>2023-05-15 04:00:00</td>\n",
       "      <td>929.659310</td>\n",
       "    </tr>\n",
       "    <tr>\n",
       "      <th>...</th>\n",
       "      <td>...</td>\n",
       "      <td>...</td>\n",
       "    </tr>\n",
       "    <tr>\n",
       "      <th>139</th>\n",
       "      <td>2023-05-19 19:00:00</td>\n",
       "      <td>322.959869</td>\n",
       "    </tr>\n",
       "    <tr>\n",
       "      <th>140</th>\n",
       "      <td>2023-05-19 20:00:00</td>\n",
       "      <td>-194.930405</td>\n",
       "    </tr>\n",
       "    <tr>\n",
       "      <th>141</th>\n",
       "      <td>2023-05-19 21:00:00</td>\n",
       "      <td>-210.714593</td>\n",
       "    </tr>\n",
       "    <tr>\n",
       "      <th>142</th>\n",
       "      <td>2023-05-19 22:00:00</td>\n",
       "      <td>218.894208</td>\n",
       "    </tr>\n",
       "    <tr>\n",
       "      <th>143</th>\n",
       "      <td>2023-05-19 23:00:00</td>\n",
       "      <td>598.729217</td>\n",
       "    </tr>\n",
       "  </tbody>\n",
       "</table></div>"
      ],
      "text/plain": [
       "                     ds        yhat\n",
       "24  2023-05-15 00:00:00  282.613496\n",
       "25  2023-05-15 01:00:00  -79.269186\n",
       "26  2023-05-15 02:00:00 -206.389265\n",
       "27  2023-05-15 03:00:00  218.027368\n",
       "28  2023-05-15 04:00:00  929.659310\n",
       "..                  ...         ...\n",
       "139 2023-05-19 19:00:00  322.959869\n",
       "140 2023-05-19 20:00:00 -194.930405\n",
       "141 2023-05-19 21:00:00 -210.714593\n",
       "142 2023-05-19 22:00:00  218.894208\n",
       "143 2023-05-19 23:00:00  598.729217\n",
       "\n",
       "[120 rows x 2 columns]"
      ]
     },
     "execution_count": 30,
     "metadata": {},
     "output_type": "execute_result"
    }
   ],
   "source": [
    "model_predict(m, num_days = 4)"
   ]
  },
  {
   "cell_type": "code",
   "execution_count": null,
   "metadata": {},
   "outputs": [],
   "source": []
  }
 ],
 "metadata": {
  "kernelspec": {
   "display_name": "base",
   "language": "python",
   "name": "python3"
  },
  "language_info": {
   "codemirror_mode": {
    "name": "ipython",
    "version": 3
   },
   "file_extension": ".py",
   "mimetype": "text/x-python",
   "name": "python",
   "nbconvert_exporter": "python",
   "pygments_lexer": "ipython3",
   "version": "3.8.5"
  },
  "orig_nbformat": 4,
  "vscode": {
   "interpreter": {
    "hash": "02e15b1dc1a9053df8aede2000f19bd423bcf01320081b3a1e044a45ff452adb"
   }
  }
 },
 "nbformat": 4,
 "nbformat_minor": 2
}
