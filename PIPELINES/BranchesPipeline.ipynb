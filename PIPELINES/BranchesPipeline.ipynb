{
 "cells": [
  {
   "cell_type": "code",
   "execution_count": 8,
   "metadata": {},
   "outputs": [],
   "source": [
    "import kfp.components as comp\n",
    "from kfp import compiler, dsl\n",
    "from kfp.dsl import InputPath, OutputPath"
   ]
  },
  {
   "cell_type": "code",
   "execution_count": 19,
   "metadata": {},
   "outputs": [],
   "source": [
    "@dsl.component\n",
    "def ParseNumber(value: int) -> int:\n",
    "    import json\n",
    "\n",
    "    if value < 10:\n",
    "        dict_value = {\n",
    "            \"value\": value\n",
    "        }\n",
    "    else:\n",
    "        raise ValueError\n",
    "    \n",
    "    return int\n",
    "    \n"
   ]
  },
  {
   "cell_type": "code",
   "execution_count": 20,
   "metadata": {},
   "outputs": [],
   "source": [
    "@dsl.component\n",
    "def ProductRule(input_1_path:int = None, input_2_path: int =  None):\n",
    "\n",
    "    import json\n",
    "\n",
    "    try:\n",
    "        if value_1 == None:\n",
    "             raise ValueError\n",
    "    except:\n",
    "        value_1 = 0\n",
    "    \n",
    "    print(value_1)\n",
    "\n",
    "    try:\n",
    "        if value_2 == None:\n",
    "             raise ValueError\n",
    "    except:\n",
    "        value_2 = 0\n",
    "    \n",
    "    print(value_2)\n",
    "\n",
    "    print(value_1 * value_2)"
   ]
  },
  {
   "cell_type": "code",
   "execution_count": 23,
   "metadata": {},
   "outputs": [],
   "source": [
    "@dsl.pipeline\n",
    "def Pipeline_Branches(\n",
    "        arg_1: int,\n",
    "        arg_2:int\n",
    "):\n",
    "\n",
    "    parser_1_task = ParseNumber(value = arg_1)\n",
    "    parser_2_task = ParseNumber(value = arg_2)\n",
    "\n",
    "    calculate_task = ProductRule(input_1_path=parser_1_task.output, input_2_path=parser_2_task.output).ignore_upstream_failure()\n",
    "\n",
    "compiler.Compiler().compile(pipeline_func = Pipeline_Branches, package_path =\"Branches_Pipeline.yaml\")"
   ]
  },
  {
   "cell_type": "code",
   "execution_count": null,
   "metadata": {},
   "outputs": [],
   "source": [
    "arg_1 = 2\n",
    "arg_2 = 3\n",
    "parser_op = comp.create_component_from_func(ParseNumber, output_component_file= \"parser_op_test.yaml\")\n",
    "product_op = comp.create_component_from_func(ProductRule, output_component_file= \"product_op_test.yaml\")\n",
    "\n",
    "parser_1_task = parser_op(arg_1)\n",
    "parser_2_task = parser_op(arg_2)\n",
    "\n",
    "calculate_task = product_op(parser_1_task.output, parser_2_task.output)"
   ]
  },
  {
   "cell_type": "code",
   "execution_count": null,
   "metadata": {},
   "outputs": [],
   "source": []
  }
 ],
 "metadata": {
  "kernelspec": {
   "display_name": ".venv",
   "language": "python",
   "name": "python3"
  },
  "language_info": {
   "codemirror_mode": {
    "name": "ipython",
    "version": 3
   },
   "file_extension": ".py",
   "mimetype": "text/x-python",
   "name": "python",
   "nbconvert_exporter": "python",
   "pygments_lexer": "ipython3",
   "version": "3.9.12"
  }
 },
 "nbformat": 4,
 "nbformat_minor": 2
}
