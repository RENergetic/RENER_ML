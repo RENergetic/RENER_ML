{
 "cells": [
  {
   "cell_type": "code",
   "execution_count": 1,
   "metadata": {},
   "outputs": [],
   "source": [
    "import kfp\n",
    "\n",
    "from typing import NamedTuple\n",
    "import kfp.components as comp\n",
    "from kfp import compiler, dsl\n",
    "from kfp import dsl\n",
    "from kfp.components import InputPath, OutputPath\n",
    "from kubernetes.client.models import V1EnvVar"
   ]
  },
  {
   "cell_type": "code",
   "execution_count": null,
   "metadata": {},
   "outputs": [],
   "source": [
    "def DummyFunction(argument_1: int, argument_2: str) -> str:\n",
    "    if argument_2 != \"\":\n",
    "        raise ValueError\n",
    "    else:\n",
    "        print(\"Who cares\")\n",
    "    \n",
    "    if argument_1 < 1000:\n",
    "        print(argument_1 * 2)\n",
    "    else:\n",
    "        print(argument_1)\n",
    "    \n",
    "    return argument_2\n"
   ]
  },
  {
   "cell_type": "code",
   "execution_count": null,
   "metadata": {},
   "outputs": [],
   "source": [
    "def DummyPipeline(\n",
    "        value_1: int,\n",
    "        value_2: str = \"\",\n",
    "        value_3: int = 8\n",
    "):\n",
    "    dummy_op = comp.create_component_from_func(\n",
    "        DummyFunction, output_component_file = \"dummy_op_component.yaml\")\n",
    "    \n",
    "    dummy_task_1 = dummy_op(value_1, \"\")\n",
    "    dummy_task_2 = dummy_op(value_1, value_2)\n",
    "    dummy_task_3 = dummy_op(value_3, dummy_task_1.output)\n",
    "    dummy_task_3 = dummy_op(3, dummy_task_2.output)\n",
    "\n",
    "\n",
    "\n",
    "compiler.Compiler().compile(pipeline_func = DummyPipeline, package_path =\"Simulate_Data_Pipeline.yaml\")\n"
   ]
  }
 ],
 "metadata": {
  "kernelspec": {
   "display_name": "base",
   "language": "python",
   "name": "python3"
  },
  "language_info": {
   "codemirror_mode": {
    "name": "ipython",
    "version": 3
   },
   "file_extension": ".py",
   "mimetype": "text/x-python",
   "name": "python",
   "nbconvert_exporter": "python",
   "pygments_lexer": "ipython3",
   "version": "3.8.5"
  }
 },
 "nbformat": 4,
 "nbformat_minor": 2
}
